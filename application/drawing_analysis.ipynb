{
 "cells": [
  {
   "cell_type": "code",
   "execution_count": null,
   "metadata": {
    "collapsed": true
   },
   "outputs": [],
   "source": [
    "import numpy as np\n",
    "from PIL import Image\n",
    "import matplotlib.pyplot as plt\n",
    "\n",
    "# Load the image\n",
    "image_path = \"path/to/drawing.png\"\n",
    "img = Image.open(image_path)\n",
    "\n",
    "# Convert the image to a NumPy array\n",
    "img_data = np.asarray(img)\n",
    "\n",
    "# Display the image\n",
    "plt.imshow(img_data)\n",
    "plt.title('Original Drawing')\n",
    "plt.axis('off')\n",
    "plt.show()\n",
    "\n",
    "# Convert the image to grayscale\n",
    "grayscale_data = np.dot(img_data, [0.2989, 0.5870, 0.1140])\n",
    "\n",
    "# Display the grayscale image\n",
    "plt.imshow(grayscale_data, cmap='gray')\n",
    "plt.title('Grayscale Drawing')\n",
    "plt.axis('off')\n",
    "plt.show()\n",
    "\n",
    "# Create a histogram of grayscale pixel values\n",
    "plt.hist(grayscale_data.ravel(), bins=256, range=(0, 255), density=True)\n",
    "plt.title('Histogram of Grayscale Pixel Values')\n",
    "plt.xlabel('Pixel Value')\n",
    "plt.ylabel('Frequency')\n",
    "plt.show()\n"
   ]
  }
 ],
 "metadata": {
  "kernelspec": {
   "display_name": "Python 3",
   "language": "python",
   "name": "python3"
  },
  "language_info": {
   "codemirror_mode": {
    "name": "ipython",
    "version": 2
   },
   "file_extension": ".py",
   "mimetype": "text/x-python",
   "name": "python",
   "nbconvert_exporter": "python",
   "pygments_lexer": "ipython2",
   "version": "2.7.6"
  }
 },
 "nbformat": 4,
 "nbformat_minor": 0
}
